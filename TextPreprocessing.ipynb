{
  "nbformat": 4,
  "nbformat_minor": 0,
  "metadata": {
    "colab": {
      "name": "Text Preprocessing.ipynb",
      "provenance": [],
      "collapsed_sections": []
    },
    "kernelspec": {
      "name": "python3",
      "display_name": "Python 3"
    }
  },
  "cells": [
    {
      "cell_type": "markdown",
      "metadata": {
        "id": "lrYMdbcunw_D",
        "colab_type": "text"
      },
      "source": [
        "# <font color='red'><b>Text Preprocessing</b></font>"
      ]
    },
    {
      "cell_type": "markdown",
      "metadata": {
        "id": "XAtBV-vWn-ez",
        "colab_type": "text"
      },
      "source": [
        "*  <b>In any of the machine learning task, preprocessing plays a key role . Preprocessing is as important as model building.\n",
        "*  In this notebook, we will create a class with all the preprocessing functions.</b>"
      ]
    },
    {
      "cell_type": "markdown",
      "metadata": {
        "id": "TIQXuXs8t1Yz",
        "colab_type": "text"
      },
      "source": [
        "<br>\n",
        "\n",
        "<font color='blue'><b>Import packages</b></font>"
      ]
    },
    {
      "cell_type": "code",
      "metadata": {
        "id": "PIuQRATWt1ms",
        "colab_type": "code",
        "colab": {}
      },
      "source": [
        "import numpy as np\n",
        "import pandas as pd\n",
        "import re\n",
        "import nltk\n",
        "import spacy\n",
        "import string"
      ],
      "execution_count": 0,
      "outputs": []
    },
    {
      "cell_type": "code",
      "metadata": {
        "id": "fuoOaqrP2hTH",
        "colab_type": "code",
        "colab": {
          "base_uri": "https://localhost:8080/",
          "height": 67
        },
        "outputId": "0e5fde38-f79d-4a6c-8586-a738c623cca8"
      },
      "source": [
        "nltk.download('stopwords') # download stopwords from nltk\n",
        "from nltk.corpus import stopwords\n",
        "from string import digits\n",
        "from bs4 import BeautifulSoup\n",
        "from nltk.stem.porter import PorterStemmer\n",
        "!pip install pyspellchecker\n",
        "from spellchecker import SpellChecker"
      ],
      "execution_count": 22,
      "outputs": [
        {
          "output_type": "stream",
          "text": [
            "[nltk_data] Downloading package stopwords to /root/nltk_data...\n",
            "[nltk_data]   Package stopwords is already up-to-date!\n",
            "Requirement already satisfied: pyspellchecker in /usr/local/lib/python3.6/dist-packages (0.5.4)\n"
          ],
          "name": "stdout"
        }
      ]
    },
    {
      "cell_type": "markdown",
      "metadata": {
        "id": "yi9YEQJfq1ZN",
        "colab_type": "text"
      },
      "source": [
        "<font color='blue'><b>Creating a class with all the preprocessing steps</b>"
      ]
    },
    {
      "cell_type": "code",
      "metadata": {
        "id": "cPqH7i4pnpji",
        "colab_type": "code",
        "colab": {}
      },
      "source": [
        "class TextPreprocess():\n",
        "  ''' With this class, we can do lower casing, removal of punctuations, removal of stopwords,  removal of digits, removal of html tags, \n",
        "      removal of emoji's, removal of url's, stemming, spelling correction'''\n",
        "  def __init__(self):\n",
        "      pass\n",
        "  def clean_raw_text(self,text,remove_html=False,lower_case = False,remove_punctuation = False,remove_stopwords=False,remove_digits=False,remove_emoji=False,remove_urls=False,stemming=False,spell_correction=False):\n",
        "    '''\n",
        "    text --> Text data that to be cleaned,\n",
        "    if remove_html is True, it will remove the html tags and then return the text\n",
        "    if lower_case is True, it will convert the text to lower case\n",
        "    if remove_punctuation is True, will remove the punctuations (!\"#$%&'()*+,-./:;<=>?@[\\]^_`{|}~)\n",
        "    if remove_stopwords is True,it will remove all the stopwords in our text\n",
        "    if remove_digits  is True, it will remove all the digits in our text\n",
        "    if remove_emoji is True, it will remove the emoji's in our text\n",
        "    if remove_urls is True, it will remove the urls in our text\n",
        "    if stemming is True , then it will do stemming\n",
        "    if spell_correction is True, then it will correct our spellings \n",
        "    '''\n",
        "    if remove_html:\n",
        "      text =BeautifulSoup(text, \"lxml\").text\n",
        "    if lower_case:\n",
        "      text = str(text).lower()\n",
        "    if remove_punctuation:\n",
        "      text=text.translate(str.maketrans('','',string.punctuation))\n",
        "    if remove_stopwords:\n",
        "      stop_words= set(stopwords.words('english'))\n",
        "      text = (' '.join([word for word in str(text).split() if word not in stop_words]))\n",
        "    if remove_digits:\n",
        "      text=text.translate(str.maketrans('','',digits))\n",
        "    if remove_emoji:\n",
        "      # https://stackoverflow.com/a/49146722/330558\n",
        "      emoji_pattern = re.compile(\"[\"\n",
        "                           u\"\\U0001F600-\\U0001F64F\"  # emoticons\n",
        "                           u\"\\U0001F300-\\U0001F5FF\"  # symbols & pictographs\n",
        "                           u\"\\U0001F680-\\U0001F6FF\"  # transport & map symbols\n",
        "                           u\"\\U0001F1E0-\\U0001F1FF\"  # flags (iOS)\n",
        "                           u\"\\U00002702-\\U000027B0\"\n",
        "                           u\"\\U000024C2-\\U0001F251\"\n",
        "                           \"]+\", flags=re.UNICODE)\n",
        "      text = emoji_pattern.sub(r'', text)\n",
        "    if remove_urls:\n",
        "      url_pattern = re.compile(r'https?://\\S+|www\\.\\S+')\n",
        "      text = url_pattern.sub(r'', text)\n",
        "    if stemming:\n",
        "      stemmer = PorterStemmer()\n",
        "      text = (' '.join([stemmer.stem(word) for word in str(text).split()]))\n",
        "    if spell_correction:\n",
        "      # https://norvig.com/spell-correct.html\n",
        "      spell = SpellChecker()\n",
        "      corrected_text = []\n",
        "      misspelled_words = spell.unknown(text.split())\n",
        "      for word in text.split():\n",
        "          if word in misspelled_words:\n",
        "              corrected_text.append(spell.correction(word))\n",
        "          else:\n",
        "              corrected_text.append(word)\n",
        "      text = \" \".join(corrected_text) \n",
        "    return text"
      ],
      "execution_count": 0,
      "outputs": []
    },
    {
      "cell_type": "markdown",
      "metadata": {
        "id": "BsvK5Lm5kEh-",
        "colab_type": "text"
      },
      "source": [
        "<font color='blue'><b>Creating an instance of class</b></font>"
      ]
    },
    {
      "cell_type": "code",
      "metadata": {
        "id": "ofi5KBvPxVln",
        "colab_type": "code",
        "colab": {}
      },
      "source": [
        "preprocess=TextPreprocess()"
      ],
      "execution_count": 0,
      "outputs": []
    },
    {
      "cell_type": "code",
      "metadata": {
        "id": "Sd_XbkJbxcAm",
        "colab_type": "code",
        "colab": {
          "base_uri": "https://localhost:8080/",
          "height": 50
        },
        "outputId": "23d4f43e-8319-4bd4-df0b-25fa313063c5"
      },
      "source": [
        "print(preprocess.__doc__) # .__doc__ will print the documentation"
      ],
      "execution_count": 25,
      "outputs": [
        {
          "output_type": "stream",
          "text": [
            " With this class, we can do lower casing, removal of punctuations, removal of stopwords,  removal of digits, removal of html tags, \n",
            "      removal of emoji's, removal of url's, stemming, spelling correction\n"
          ],
          "name": "stdout"
        }
      ]
    },
    {
      "cell_type": "code",
      "metadata": {
        "id": "KyHll2eIzVnr",
        "colab_type": "code",
        "colab": {
          "base_uri": "https://localhost:8080/",
          "height": 54
        },
        "outputId": "17b13544-316d-4072-ba09-e14b3fd78e24"
      },
      "source": [
        "import inspect\n",
        "print(inspect.signature(preprocess.clean_raw_text)) # this will print the parameters for the function"
      ],
      "execution_count": 26,
      "outputs": [
        {
          "output_type": "stream",
          "text": [
            "(text, remove_html=False, lower_case=False, remove_punctuation=False, remove_stopwords=False, remove_digits=False, remove_emoji=False, remove_urls=False, stemming=False, spell_correction=False)\n"
          ],
          "name": "stdout"
        }
      ]
    },
    {
      "cell_type": "code",
      "metadata": {
        "id": "kOXU5BmgkSqU",
        "colab_type": "code",
        "colab": {}
      },
      "source": [
        "text ='Hi, Am Sakesh Pusuluri, This is my notebook on basic preprocessing, you can read more about text preprocessing from this link : https://www.kaggle.com/sudalairajkumar/getting-started-with-text-preprocessing/data'"
      ],
      "execution_count": 0,
      "outputs": []
    },
    {
      "cell_type": "code",
      "metadata": {
        "id": "D1iBnADdnsCJ",
        "colab_type": "code",
        "colab": {
          "base_uri": "https://localhost:8080/",
          "height": 54
        },
        "outputId": "c0747179-688b-463d-8627-fa907a26ab27"
      },
      "source": [
        "print(text)"
      ],
      "execution_count": 28,
      "outputs": [
        {
          "output_type": "stream",
          "text": [
            "Hi, Am Sakesh Pusuluri, This is my notebook on basic preprocessing, you can read more about text preprocessing from this link : https://www.kaggle.com/sudalairajkumar/getting-started-with-text-preprocessing/data\n"
          ],
          "name": "stdout"
        }
      ]
    },
    {
      "cell_type": "markdown",
      "metadata": {
        "id": "OTtSs6xvn2ym",
        "colab_type": "text"
      },
      "source": [
        "<font color='blue'><b> Removing url's and lower casing text </b></font> "
      ]
    },
    {
      "cell_type": "code",
      "metadata": {
        "id": "R-ryeTRy0RKa",
        "colab_type": "code",
        "colab": {
          "base_uri": "https://localhost:8080/",
          "height": 34
        },
        "outputId": "d5f5558c-db2e-4dd4-ed27-06867518a736"
      },
      "source": [
        "preprocess.clean_raw_text(text,lower_case=True,remove_urls=True)"
      ],
      "execution_count": 29,
      "outputs": [
        {
          "output_type": "execute_result",
          "data": {
            "text/plain": [
              "'hi, am sakesh pusuluri, this is my notebook on basic preprocessing, you can read more about text preprocessing from this link : '"
            ]
          },
          "metadata": {
            "tags": []
          },
          "execution_count": 29
        }
      ]
    },
    {
      "cell_type": "markdown",
      "metadata": {
        "id": "Iy0U_oqGoUhJ",
        "colab_type": "text"
      },
      "source": [
        "<font color='lightgreen'><b>Yayyyyyy !... url's has been removed and text has been converted to lower case </b></font> "
      ]
    },
    {
      "cell_type": "markdown",
      "metadata": {
        "id": "dihIrQSVotMi",
        "colab_type": "text"
      },
      "source": [
        "<font color='blue'><b>Removing punctuations, removing digits and removing emoji's</b> </font>"
      ]
    },
    {
      "cell_type": "code",
      "metadata": {
        "id": "55_l0C0qoOeq",
        "colab_type": "code",
        "colab": {}
      },
      "source": [
        "text=\" Lahari music : South India's Largest Music Company #Lahari ❤ Music # No. 1 🎶\""
      ],
      "execution_count": 0,
      "outputs": []
    },
    {
      "cell_type": "code",
      "metadata": {
        "id": "w56BW4lKqFDm",
        "colab_type": "code",
        "colab": {
          "base_uri": "https://localhost:8080/",
          "height": 34
        },
        "outputId": "47a89a73-122a-45c0-c8ed-8ffcece594e2"
      },
      "source": [
        "preprocess.clean_raw_text(text,remove_punctuation=True,remove_digits=True,remove_emoji=True)"
      ],
      "execution_count": 31,
      "outputs": [
        {
          "output_type": "execute_result",
          "data": {
            "text/plain": [
              "' Lahari music  South Indias Largest Music Company Lahari  Music  No  '"
            ]
          },
          "metadata": {
            "tags": []
          },
          "execution_count": 31
        }
      ]
    },
    {
      "cell_type": "markdown",
      "metadata": {
        "id": "EGXIesGkq_RE",
        "colab_type": "text"
      },
      "source": [
        "<font color='lightgreen'><b>Booom !... Punctuations,digits and emoji's are removed </b></font> "
      ]
    },
    {
      "cell_type": "markdown",
      "metadata": {
        "id": "EkLrSzQFrhuU",
        "colab_type": "text"
      },
      "source": [
        "<font color='blue'><b> Spell correction </b></font>"
      ]
    },
    {
      "cell_type": "code",
      "metadata": {
        "id": "nasOhy5mq68X",
        "colab_type": "code",
        "colab": {}
      },
      "source": [
        "text =\"Am waiting outside ,come sono, let's go \" "
      ],
      "execution_count": 0,
      "outputs": []
    },
    {
      "cell_type": "code",
      "metadata": {
        "id": "x4Hk-6wvr9DW",
        "colab_type": "code",
        "colab": {
          "base_uri": "https://localhost:8080/",
          "height": 34
        },
        "outputId": "d4b7cd30-c84c-4bbf-b397-ef4754084ee2"
      },
      "source": [
        "preprocess.clean_raw_text(text,remove_punctuation=True,spell_correction=True)"
      ],
      "execution_count": 41,
      "outputs": [
        {
          "output_type": "execute_result",
          "data": {
            "text/plain": [
              "'Am waiting outside come soon lets go'"
            ]
          },
          "metadata": {
            "tags": []
          },
          "execution_count": 41
        }
      ]
    },
    {
      "cell_type": "markdown",
      "metadata": {
        "id": "QQ5tetTTsxP5",
        "colab_type": "text"
      },
      "source": [
        "<font color='lightgreen'><b>🤩 !... Spelling has been corrected</b></font> "
      ]
    }
  ]
}